{
 "cells": [
  {
   "cell_type": "code",
   "execution_count": 1,
   "id": "4ef77402-201e-453f-a8c7-60faa25d3782",
   "metadata": {},
   "outputs": [],
   "source": [
    "from pymongo import MongoClient"
   ]
  },
  {
   "cell_type": "code",
   "execution_count": 2,
   "id": "28f7fb86-c9d9-404c-a970-87a7a7f0029c",
   "metadata": {},
   "outputs": [],
   "source": [
    "client = MongoClient('localhost',27017)"
   ]
  },
  {
   "cell_type": "code",
   "execution_count": 3,
   "id": "a1696622-99af-46dc-b284-5132d5dce4df",
   "metadata": {},
   "outputs": [],
   "source": [
    "db=client['studentpro']"
   ]
  },
  {
   "cell_type": "code",
   "execution_count": 8,
   "id": "aaad4270-8370-4326-b74f-9d2e3ab03970",
   "metadata": {},
   "outputs": [],
   "source": [
    "stud = db['stud']"
   ]
  },
  {
   "cell_type": "code",
   "execution_count": 9,
   "id": "d4572421-66d0-4a05-8f0a-2363481d63c1",
   "metadata": {},
   "outputs": [
    {
     "name": "stdout",
     "output_type": "stream",
     "text": [
      "{'_id': ObjectId('61a4e113b3afa43b142fb30b'), 'S_id': '01', 'S_Name': 'Pooja'}\n",
      "{'_id': ObjectId('61a4e113b3afa43b142fb30c'), 'S_id': '02', 'S_Name': 'Joe'}\n",
      "{'_id': ObjectId('61a4e113b3afa43b142fb30d'), 'S_id': '03', 'S_Name': 'Nish'}\n"
     ]
    }
   ],
   "source": [
    "for stud in stud.find():\n",
    "    print(stud)"
   ]
  },
  {
   "cell_type": "code",
   "execution_count": 13,
   "id": "a2aeb109-1503-4b26-a590-a3f392f12cd7",
   "metadata": {},
   "outputs": [],
   "source": [
    "course =db['course']"
   ]
  },
  {
   "cell_type": "code",
   "execution_count": 14,
   "id": "124b5f78-d486-4baf-b9eb-5cbe1a3fb6e4",
   "metadata": {},
   "outputs": [
    {
     "name": "stdout",
     "output_type": "stream",
     "text": [
      "{'_id': ObjectId('61a4e3b5b3afa43b142fb317'), 'C_id': '01', 'C_Name': 'Python'}\n",
      "{'_id': ObjectId('61a4e3b5b3afa43b142fb318'), 'C_id': '02', 'C_Name': 'Java'}\n",
      "{'_id': ObjectId('61a4e3b5b3afa43b142fb319'), 'C_id': '03', 'C_Name': 'Fullstack'}\n"
     ]
    }
   ],
   "source": [
    "for course in course.find():\n",
    "    print(course)"
   ]
  },
  {
   "cell_type": "code",
   "execution_count": 15,
   "id": "0fcb8949-f60f-4649-97bc-9d00b16ffc5a",
   "metadata": {},
   "outputs": [],
   "source": [
    "tutor=db['tutor']"
   ]
  },
  {
   "cell_type": "code",
   "execution_count": 16,
   "id": "55f81a29-84a6-4db8-8071-7536fcd1e4ee",
   "metadata": {},
   "outputs": [
    {
     "name": "stdout",
     "output_type": "stream",
     "text": [
      "{'_id': ObjectId('61a4e3ffb3afa43b142fb31a'), 'T_id': '01', 'T_Name': 'PPH'}\n",
      "{'_id': ObjectId('61a4e3ffb3afa43b142fb31b'), 'T_id': '02', 'T_Name': 'JBC'}\n",
      "{'_id': ObjectId('61a4e3ffb3afa43b142fb31c'), 'T_id': '03', 'T_Name': 'FMM'}\n"
     ]
    }
   ],
   "source": [
    "for tutor in tutor.find():\n",
    "    print(tutor)"
   ]
  },
  {
   "cell_type": "code",
   "execution_count": 17,
   "id": "517bb925-561a-4f6a-a7a4-7923224f320d",
   "metadata": {},
   "outputs": [],
   "source": [
    "time = db['time']"
   ]
  },
  {
   "cell_type": "code",
   "execution_count": 18,
   "id": "5c699372-61b2-4488-b07a-6d254a5ac4ec",
   "metadata": {},
   "outputs": [
    {
     "name": "stdout",
     "output_type": "stream",
     "text": [
      "{'_id': ObjectId('61a4e236b3afa43b142fb314'), 'T_id': '01', 'Time': '6PM'}\n",
      "{'_id': ObjectId('61a4e236b3afa43b142fb315'), 'T_id': '02', 'Time': '4PM'}\n",
      "{'_id': ObjectId('61a4e236b3afa43b142fb316'), 'T_id': '03', 'Time': '8PM'}\n"
     ]
    }
   ],
   "source": [
    "for time in time.find():\n",
    "    print(time)"
   ]
  },
  {
   "cell_type": "code",
   "execution_count": null,
   "id": "1f01fd2e-55ce-4336-9f15-a12d825b8ad0",
   "metadata": {},
   "outputs": [],
   "source": []
  }
 ],
 "metadata": {
  "kernelspec": {
   "display_name": "Python 3 (ipykernel)",
   "language": "python",
   "name": "python3"
  },
  "language_info": {
   "codemirror_mode": {
    "name": "ipython",
    "version": 3
   },
   "file_extension": ".py",
   "mimetype": "text/x-python",
   "name": "python",
   "nbconvert_exporter": "python",
   "pygments_lexer": "ipython3",
   "version": "3.9.7"
  }
 },
 "nbformat": 4,
 "nbformat_minor": 5
}
