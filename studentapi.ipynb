{
 "cells": [
  {
   "cell_type": "code",
   "execution_count": null,
   "id": "006a363c",
   "metadata": {
    "tags": []
   },
   "outputs": [
    {
     "name": "stderr",
     "output_type": "stream",
     "text": [
      " * Running on http://localhost:9000/ (Press CTRL+C to quit)\n"
     ]
    }
   ],
   "source": [
    "#Create Student API using Python and Mongo DB (Student, Tutor, Course and timings) 1 tutor - many student , I student - 1 or many courses, 1 student to many timings. 1 tutor to many timings . when ever we ask for student . the result shows Tutor, coruse(s) and Timings\n",
    "\n",
    "from werkzeug.wrappers import Request,Response\n",
    "from flask import Flask, jsonify, request \n",
    "from pymongo import MongoClient\n",
    "from studApi import stud,course,tutor,time\n",
    "client = MongoClient('localhost',27017)\n",
    "\n",
    "db = client[\"studentpro\"]\n",
    "\n",
    "stud = db['stud']\n",
    "course =db['course']\n",
    "tutor=db['tutor']\n",
    "time = db['time']\n",
    "\n",
    "app=Flask(__name__)\n",
    "\n",
    "@app.route('/studentpro',methods=['GET', 'POST'])\n",
    "def home():\n",
    "    if(request.method == 'GET'):\n",
    "        data=\"HELLO! WELCOME TO CLASS\"\n",
    "        return jsonify({'data':data})\n",
    "@app.route('/stud',methods=['GET', 'POST'])\n",
    "def f1():\n",
    "     if(request.method == 'GET'):\n",
    "            return stud()\n",
    "\n",
    "@app.route('/course',methods=['GET', 'POST'])\n",
    "def f2():\n",
    "     if(request.method == 'GET'):\n",
    "            return course()\n",
    "        \n",
    "@app.route('/tutor',methods=['GET', 'POST'])\n",
    "def f3():\n",
    "     if(request.method == 'GET'):\n",
    "            return tutor()\n",
    "\n",
    "@app.route('/time',methods=['GET', 'POST'])\n",
    "def f4():\n",
    "     if(request.method == 'GET'):\n",
    "            return time()\n",
    "        \n",
    "if __name__ =='__main__':\n",
    "    from werkzeug.serving import run_simple\n",
    "    run_simple('localhost',9000,app)\n",
    "\n",
    "\n",
    "\n"
   ]
  },
  {
   "cell_type": "code",
   "execution_count": null,
   "id": "f44c7bca",
   "metadata": {},
   "outputs": [],
   "source": []
  },
  {
   "cell_type": "code",
   "execution_count": null,
   "id": "0b111061",
   "metadata": {},
   "outputs": [],
   "source": []
  },
  {
   "cell_type": "code",
   "execution_count": null,
   "id": "d256c7fe-355a-4a8d-9268-70d75234bc23",
   "metadata": {},
   "outputs": [],
   "source": []
  }
 ],
 "metadata": {
  "kernelspec": {
   "display_name": "Python 3 (ipykernel)",
   "language": "python",
   "name": "python3"
  },
  "language_info": {
   "codemirror_mode": {
    "name": "ipython",
    "version": 3
   },
   "file_extension": ".py",
   "mimetype": "text/x-python",
   "name": "python",
   "nbconvert_exporter": "python",
   "pygments_lexer": "ipython3",
   "version": "3.9.7"
  }
 },
 "nbformat": 4,
 "nbformat_minor": 5
}
